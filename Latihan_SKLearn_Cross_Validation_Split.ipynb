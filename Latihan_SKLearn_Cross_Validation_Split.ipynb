{
  "nbformat": 4,
  "nbformat_minor": 0,
  "metadata": {
    "colab": {
      "name": "Latihan SKLearn Cross Validation Split.ipynb",
      "provenance": [],
      "collapsed_sections": []
    },
    "kernelspec": {
      "name": "python3",
      "display_name": "Python 3"
    },
    "language_info": {
      "name": "python"
    }
  },
  "cells": [
    {
      "cell_type": "code",
      "metadata": {
        "id": "-m8rFqRfmUo7"
      },
      "source": [
        "import sklearn\n",
        "from sklearn import datasets\n",
        " \n",
        "# Load iris dataset\n",
        "iris = datasets.load_iris()\n",
        "\n",
        "# mendefinisikan atribut dan label pada dataset\n",
        "x=iris.data\n",
        "y=iris.target\n",
        "\n",
        "from sklearn import tree\n",
        " \n",
        "# membuat model dengan decision tree ckassifier\n",
        "clf = tree.DecisionTreeClassifier()\n",
        "\n",
        "from sklearn.model_selection import cross_val_score\n",
        " \n",
        "# mengevaluasi performa model dengan cross_val_score\n",
        "scores = cross_val_score(clf, x, y, cv=5)"
      ],
      "execution_count": 1,
      "outputs": []
    }
  ]
}